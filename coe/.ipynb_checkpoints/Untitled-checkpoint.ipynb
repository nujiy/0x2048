{
 "cells": [
  {
   "cell_type": "code",
   "execution_count": 8,
   "metadata": {},
   "outputs": [],
   "source": [
    "fp = open(\"try.coe\",\"a\")"
   ]
  },
  {
   "cell_type": "markdown",
   "metadata": {},
   "source": [
    "0x2000 -> 0x4cfff, 每个地址是一个16位的"
   ]
  },
  {
   "cell_type": "code",
   "execution_count": 9,
   "metadata": {},
   "outputs": [],
   "source": [
    "f = open(\"try.coe\",\"r\")\n",
    "s = f.read()\n",
    "f.close()\n",
    "s=s[61:-1].split(',')"
   ]
  },
  {
   "cell_type": "code",
   "execution_count": 10,
   "metadata": {},
   "outputs": [],
   "source": [
    "s[528] = ' 00000010'\n",
    "s[529] = ' 00000001'\n",
    "s[530] = ' 00000003'\n",
    "s[531] = ' 00000010'\n",
    "s[532] = ' 00000005'\n",
    "s[533] = ' 00000007'\n",
    "s[534] = ' 00000009'\n",
    "s[535] = ' 0000000a'\n",
    "s[536] = ' 0000000c'\n",
    "s[537] = ' 0000000e'\n",
    "s[538] = ' 00000004'\n",
    "s[539] = ' 00000006'\n",
    "s[540] = ' 00000008'\n",
    "s[541] = ' 0000000b'\n",
    "s[542] = ' 0000000d'\n",
    "s[543] = ' 0000000f'\n",
    "s[544] = ' 00000002'"
   ]
  },
  {
   "cell_type": "code",
   "execution_count": 11,
   "metadata": {},
   "outputs": [],
   "source": [
    "fp.close()\n",
    "fp=open(\"try.coe\",\"w\")\n",
    "fp.write('''memory_initialization_radix=16;\n",
    "memory_initialization_vector=''');\n",
    "for i,ss in enumerate(s):\n",
    "    if i==len(s)-1:\n",
    "        fp.write(ss+';')\n",
    "    else:\n",
    "        fp.write(ss+',')"
   ]
  },
  {
   "cell_type": "code",
   "execution_count": 12,
   "metadata": {},
   "outputs": [],
   "source": [
    "fp.close()"
   ]
  },
  {
   "cell_type": "code",
   "execution_count": 13,
   "metadata": {},
   "outputs": [
    {
     "data": {
      "text/plain": [
       "'0x840'"
      ]
     },
     "execution_count": 13,
     "metadata": {},
     "output_type": "execute_result"
    }
   ],
   "source": [
    "hex(528*4)"
   ]
  },
  {
   "cell_type": "code",
   "execution_count": null,
   "metadata": {},
   "outputs": [],
   "source": []
  },
  {
   "cell_type": "code",
   "execution_count": null,
   "metadata": {},
   "outputs": [],
   "source": []
  },
  {
   "cell_type": "code",
   "execution_count": null,
   "metadata": {},
   "outputs": [],
   "source": []
  },
  {
   "cell_type": "code",
   "execution_count": null,
   "metadata": {},
   "outputs": [],
   "source": []
  },
  {
   "cell_type": "code",
   "execution_count": null,
   "metadata": {},
   "outputs": [],
   "source": []
  },
  {
   "cell_type": "code",
   "execution_count": null,
   "metadata": {},
   "outputs": [],
   "source": []
  }
 ],
 "metadata": {
  "kernelspec": {
   "display_name": "Python 3",
   "language": "python",
   "name": "python3"
  },
  "language_info": {
   "codemirror_mode": {
    "name": "ipython",
    "version": 3
   },
   "file_extension": ".py",
   "mimetype": "text/x-python",
   "name": "python",
   "nbconvert_exporter": "python",
   "pygments_lexer": "ipython3",
   "version": "3.6.4"
  }
 },
 "nbformat": 4,
 "nbformat_minor": 2
}
